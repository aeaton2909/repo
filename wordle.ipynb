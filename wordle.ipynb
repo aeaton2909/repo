{
 "cells": [
  {
   "cell_type": "code",
   "execution_count": 1,
   "id": "2a2182e4",
   "metadata": {},
   "outputs": [],
   "source": [
    "import numpy as np\n",
    "import pandas as pd"
   ]
  },
  {
   "cell_type": "code",
   "execution_count": 2,
   "id": "59308843",
   "metadata": {},
   "outputs": [],
   "source": [
    "def make_guess2(guess, correct_chars, words):\n",
    "\n",
    "    print('Correct letters:')\n",
    "    print(correct_chars)\n",
    "    \n",
    "    incorrect_chars = [c for c in guess if c not in correct_chars]\n",
    "    \n",
    "    print('Incorrect letters:')\n",
    "    print(incorrect_chars)\n",
    "        \n",
    "    # only words with no incorrect letters are kept\n",
    "    if guess in words:\n",
    "        words.remove(guess)\n",
    "    else:\n",
    "        print('Guessed a word not on remaining list..clever')\n",
    "    no_incorrect = []\n",
    "    for w in words:\n",
    "        chars = [c for c in w]\n",
    "        if (len([c for c in chars if c in incorrect_chars])==0):\n",
    "                no_incorrect.append(w)\n",
    "\n",
    "    remaining_words = []    \n",
    "    if len(correct_chars)>0:\n",
    "        for w in no_incorrect:\n",
    "            chars = [c for c in w]\n",
    "            if len(set([c for c in chars if c in correct_chars]))==len(correct_chars):\n",
    "                remaining_words.append(w)\n",
    "    else:\n",
    "        remaining_words = no_incorrect\n",
    "\n",
    "    print(\"Remaining words ({}) \".format(len(remaining_words)))     \n",
    "    #print(remaining_words) \n",
    "    if len(remaining_words)<=3:\n",
    "        print(remaining_words) \n",
    "        if len(remaining_words)==1:\n",
    "            print('Congratulations...eliminated down to one!')\n",
    "\n",
    "\n",
    "    return remaining_words"
   ]
  },
  {
   "cell_type": "code",
   "execution_count": 3,
   "id": "271359e3",
   "metadata": {},
   "outputs": [],
   "source": [
    "def split_by(words, char):\n",
    "    \n",
    "    split_with = set([w for w in words if char in w])\n",
    "    split_without = set([w for w in words if char not in w])\n",
    "    \n",
    "    return split_with, split_without\n"
   ]
  },
  {
   "cell_type": "code",
   "execution_count": 4,
   "id": "118cd7b6",
   "metadata": {},
   "outputs": [],
   "source": [
    "def evaluate_guess(guess, target, position=None):\n",
    "    \n",
    "    correct_chars = [c for c in guess if c in target]\n",
    "    \n",
    "    if position == True:\n",
    "        correct_chars_dict = dict()\n",
    "        for c in correct_chars:\n",
    "            correct_chars = [c for c in guess if c in target]\n",
    "            for c in correct_chars:\n",
    "                out = []\n",
    "                idx_target = [i.start() for i in re.finditer(c, target)]\n",
    "                idx_guess  = [i.start() for i in re.finditer(c, guess)]\n",
    "                out = (out + \n",
    "                       [i+1 for i in idx_guess if i in idx_target] + \n",
    "                       [-(i+1) for i in idx_guess if i not in idx_target])\n",
    "                correct_chars_dict[c] = list(set(out))\n",
    "                \n",
    "        correct_chars = correct_chars_dict\n",
    "    else:\n",
    "        correct_chars = list(set(correct_chars))\n",
    "    \n",
    "    \n",
    "    return correct_chars"
   ]
  },
  {
   "cell_type": "code",
   "execution_count": 5,
   "id": "71ae0ecd",
   "metadata": {},
   "outputs": [],
   "source": [
    "def make_guess(guess, target, words):\n",
    "\n",
    "    correct_chars = set([c for c in guess if c in target])\n",
    "    incorrect_chars = set([c for c in guess if c not in target])\n",
    "    \n",
    "    print('Correct letters:')\n",
    "    print(correct_chars)\n",
    "    print('Incorrect letters:')\n",
    "    print(incorrect_chars)\n",
    "    \n",
    "    if guess==target:\n",
    "        print('Congratulations...you guessed it!')\n",
    "        \n",
    "    else:\n",
    "    \n",
    "        # only words with no incorrect letters are kept\n",
    "        if guess in words:\n",
    "            words.remove(guess)\n",
    "        else:\n",
    "            print('Guessed a word not on remaining list..clever')\n",
    "        no_incorrect = []\n",
    "        for w in words:\n",
    "            chars = [c for c in w]\n",
    "            if (len([c for c in chars if c in incorrect_chars])==0):\n",
    "                    no_incorrect.append(w)\n",
    "\n",
    "        remaining_words = []    \n",
    "        if len(correct_chars)>0:\n",
    "            for w in no_incorrect:\n",
    "                chars = [c for c in w]\n",
    "                if len(set([c for c in chars if c in correct_chars]))==len(correct_chars):\n",
    "                    remaining_words.append(w)\n",
    "        else:\n",
    "            remaining_words = no_incorrect\n",
    "\n",
    "        print(\"Remaining words ({}): \".format(len(remaining_words)))     \n",
    "        #print(remaining_words) \n",
    "        if len(remaining_words)<=3:\n",
    "            print(remaining_words) \n",
    "            if len(remaining_words)==1:\n",
    "                print('Congratulations...eliminated down to one!')\n",
    "\n",
    "     \n",
    "        return remaining_words\n",
    "    "
   ]
  },
  {
   "cell_type": "code",
   "execution_count": 6,
   "id": "be10d234",
   "metadata": {},
   "outputs": [],
   "source": [
    "# def enter_result(guess, correct_chars, incorrect_chars, words):\n",
    "    \n",
    "#     print('Correct letters:')\n",
    "#     print(correct_chars)\n",
    "#     print('Incorrect letters:')\n",
    "#     print(incorrect_chars)\n",
    "    \n",
    "#     # only words with no incorrect letters are kept\n",
    "#     no_incorrect = []\n",
    "#     for w in words:\n",
    "#         chars = [c for c in w]\n",
    "#         if (len([c for c in chars if c in incorrect_chars])==0):\n",
    "#                 no_incorrect.append(w)\n",
    "\n",
    "#     remaining_words = []    \n",
    "#     if len(correct_chars)>0:\n",
    "#         for w in no_incorrect:\n",
    "#             chars = [c for c in w]\n",
    "#             if len(set([c for c in chars if c in correct_chars]))==len(correct_chars):\n",
    "#                 remaining_words.append(w)\n",
    "#     else:\n",
    "#         remaining_words = no_incorrect\n",
    "    \n",
    "#     print(\"Remaining words ({}): \".format(len(remaining_words)))     \n",
    "#     #print(remaining_words)  \n",
    "\n",
    "#     if len(remaining_words)==1:\n",
    "#         print('Congratulations...you guessed it!')\n",
    "    \n",
    "#     if len(remaining_words)==1:\n",
    "#         print('Congratulations...eliminated down to one!')\n",
    "#         print(remaining_words) \n",
    "     \n",
    "#     return remaining_words"
   ]
  },
  {
   "cell_type": "code",
   "execution_count": 7,
   "id": "b264edd5",
   "metadata": {},
   "outputs": [],
   "source": [
    "def char_entropy(words_remaining, words_all):\n",
    "\n",
    "    n_words = len(words_remaining)\n",
    "    unique_chars = set([c for c in ''.join(words_all)])\n",
    "\n",
    "    entropy = dict.fromkeys(unique_chars, 0)\n",
    "    \n",
    "    # get freq of letters in each word\n",
    "    for char in unique_chars:\n",
    "        n = 0\n",
    "        for word in words_remaining:\n",
    "            if char in word:\n",
    "                n += 1\n",
    "\n",
    "        if (n_words-n != 0) & (n != 0):\n",
    "            entropy[char] = (-(n/n_words)*np.log2(n/n_words) \n",
    "                             - ((n_words-n)/n_words)*np.log2((n_words-n)/n_words))\n",
    "        else:\n",
    "            entropy[char] = 0\n",
    "\n",
    "    return entropy\n"
   ]
  },
  {
   "cell_type": "code",
   "execution_count": 8,
   "id": "a10db916",
   "metadata": {},
   "outputs": [],
   "source": [
    "def get_word_entropy(words_remaining, words, return_best=None, show=None):\n",
    "    # currently the information gain does not account for character position!\n",
    "    \n",
    "    word_entropy = dict.fromkeys(words, 0)\n",
    "    char_ent = char_entropy(words_remaining, words)\n",
    "\n",
    "    for w in words:\n",
    "        entropy = 0\n",
    "        used_chars = []\n",
    "        for c in w:\n",
    "             #if (c not in common_chars) & (c not in used_chars):\n",
    "            if c not in used_chars:\n",
    "                entropy = entropy + char_ent[c]\n",
    "                used_chars.append(c)\n",
    "        word_entropy[w] = entropy/len(w)\n",
    "    \n",
    "    best_choices = sorted(word_entropy, key=word_entropy.get, reverse=True)[:10]\n",
    "    \n",
    "    if word_entropy[best_choices[0]] == 0:\n",
    "        print('Best entropy is 0...are all remaining words anagrams?')\n",
    "    \n",
    "    if show:\n",
    "        print('Here are the best guesses...')\n",
    "        for i in best_choices:\n",
    "            print([i, word_entropy[i]])\n",
    "            \n",
    "    if return_best:\n",
    "        return best_choices"
   ]
  },
  {
   "cell_type": "code",
   "execution_count": 9,
   "id": "4973c047",
   "metadata": {},
   "outputs": [],
   "source": [
    "def make_guess3(guess, correct, remaining_words):\n",
    "\n",
    "    print('Correct letters:')\n",
    "    print(correct)\n",
    "    \n",
    "    incorrect = [c for c in guess if c not in correct]\n",
    "    \n",
    "    print('Incorrect letters:')\n",
    "    print(incorrect)\n",
    "\n",
    "    incorrect_words = []\n",
    "    for word in remaining_words:\n",
    "        word_correct = True\n",
    "        while(word_correct == True): \n",
    "            # correct characters (either in place or not)\n",
    "            for char in correct:\n",
    "                for i in correct[char]:\n",
    "                    if i > 0:\n",
    "                        idx = i-1\n",
    "                        if word[idx] == char:\n",
    "                            continue\n",
    "                        else:\n",
    "                            word_correct = False\n",
    "                            incorrect_words.append(word)\n",
    "                            break\n",
    "                    else:\n",
    "                        idx = abs(i)-1\n",
    "                        if (word[idx] != char) & (char in word):\n",
    "                            continue\n",
    "                        else:\n",
    "                            word_correct = False\n",
    "                            incorrect_words.append(word)\n",
    "                            break\n",
    "            for char in incorrect:\n",
    "                if (char in word):\n",
    "                    incorrect_words.append(word)\n",
    "                    break    \n",
    "            break   \n",
    "\n",
    "    remaining_words = [w for w in remaining_words if w not in incorrect_words]\n",
    "\n",
    "    print(\"Remaining words ({}) \".format(len(remaining_words)))     \n",
    "    if len(remaining_words)<=5:\n",
    "        print(remaining_words) \n",
    "        if len(remaining_words)==1:\n",
    "            print('Congratulations...eliminated down to one!')\n",
    "\n",
    "\n",
    "    return remaining_words"
   ]
  },
  {
   "cell_type": "code",
   "execution_count": 10,
   "id": "d75fe0c5",
   "metadata": {},
   "outputs": [],
   "source": [
    "with open('valid_solutions.csv') as f:\n",
    "    lines = f.readlines()\n",
    "\n",
    "wordle_words = [w[:5] for w in lines]"
   ]
  },
  {
   "cell_type": "code",
   "execution_count": 11,
   "id": "3f771306",
   "metadata": {},
   "outputs": [
    {
     "name": "stdout",
     "output_type": "stream",
     "text": [
      "Correct letters:\n",
      "{'l': [-2], 'e': [-3], 'r': [-4]}\n",
      "Incorrect letters:\n",
      "['a', 't']\n",
      "Remaining words (20) \n"
     ]
    }
   ],
   "source": [
    "remaining_words = make_guess3('alert', {'l':[-2], 'e':[-3], 'r':[-4]}, wordle_words)"
   ]
  },
  {
   "cell_type": "code",
   "execution_count": 12,
   "id": "79fb1a00",
   "metadata": {},
   "outputs": [
    {
     "name": "stdout",
     "output_type": "stream",
     "text": [
      "Here are the best guesses...\n",
      "['opium', 0.6548323013965144]\n",
      "['pubic', 0.6266633591710906]\n",
      "['pivot', 0.5975529099733232]\n",
      "['ficus', 0.5760768589114743]\n",
      "['optic', 0.546966409713707]\n",
      "['topic', 0.546966409713707]\n",
      "['voice', 0.546966409713707]\n",
      "['curio', 0.5469664097137069]\n",
      "['music', 0.5395571316168095]\n",
      "['spicy', 0.5395571316168094]\n"
     ]
    }
   ],
   "source": [
    "get_word_entropy(remaining_words, wordle_words, show=True)"
   ]
  },
  {
   "cell_type": "code",
   "execution_count": 13,
   "id": "410c1cc8",
   "metadata": {},
   "outputs": [
    {
     "name": "stdout",
     "output_type": "stream",
     "text": [
      "Correct letters:\n",
      "{'o': [-1]}\n",
      "Incorrect letters:\n",
      "['p', 'i', 'u', 'm']\n",
      "Remaining words (3) \n",
      "['loser', 'lover', 'lower']\n"
     ]
    }
   ],
   "source": [
    "remaining_words = make_guess3('opium', {'o':[-1]}, remaining_words)"
   ]
  },
  {
   "cell_type": "code",
   "execution_count": 14,
   "id": "c8cf7ef2",
   "metadata": {},
   "outputs": [
    {
     "name": "stdout",
     "output_type": "stream",
     "text": [
      "Here are the best guesses...\n",
      "['askew', 0.36731833362179583]\n",
      "['awash', 0.36731833362179583]\n",
      "['salve', 0.36731833362179583]\n",
      "['salvo', 0.36731833362179583]\n",
      "['savor', 0.36731833362179583]\n",
      "['savoy', 0.36731833362179583]\n",
      "['savvy', 0.36731833362179583]\n",
      "['scowl', 0.36731833362179583]\n",
      "['screw', 0.36731833362179583]\n",
      "['serve', 0.36731833362179583]\n"
     ]
    }
   ],
   "source": [
    "get_word_entropy(remaining_words, wordle_words, show=True)"
   ]
  },
  {
   "cell_type": "code",
   "execution_count": 15,
   "id": "18f1e4a7",
   "metadata": {},
   "outputs": [
    {
     "name": "stdout",
     "output_type": "stream",
     "text": [
      "Correct letters:\n",
      "{'s': [-2], 'e': [4]}\n",
      "Incorrect letters:\n",
      "['a', 'k', 'w']\n",
      "Remaining words (1) \n",
      "['loser']\n",
      "Congratulations...eliminated down to one!\n"
     ]
    }
   ],
   "source": [
    "remaining_words = make_guess3('askew', {'s':[-2],'e':[4]}, remaining_words)"
   ]
  },
  {
   "cell_type": "code",
   "execution_count": 16,
   "id": "08f18215",
   "metadata": {},
   "outputs": [
    {
     "name": "stdout",
     "output_type": "stream",
     "text": [
      "Best entropy is 0...are all remaining words anagrams?\n",
      "Here are the best guesses...\n",
      "['word\\n', 0.0]\n",
      "['aback', 0.0]\n",
      "['abase', 0.0]\n",
      "['abate', 0.0]\n",
      "['abbey', 0.0]\n",
      "['abbot', 0.0]\n",
      "['abhor', 0.0]\n",
      "['abide', 0.0]\n",
      "['abled', 0.0]\n",
      "['abode', 0.0]\n"
     ]
    }
   ],
   "source": [
    "get_word_entropy(remaining_words, wordle_words, show=True)"
   ]
  },
  {
   "cell_type": "code",
   "execution_count": 17,
   "id": "28e98f75",
   "metadata": {},
   "outputs": [
    {
     "name": "stdout",
     "output_type": "stream",
     "text": [
      "Correct letters:\n",
      "{'o': [-3], 'e': [-5]}\n",
      "Incorrect letters:\n",
      "['a', 'b', 'v']\n",
      "Remaining words (1) \n",
      "['loser']\n",
      "Congratulations...eliminated down to one!\n"
     ]
    }
   ],
   "source": [
    "remaining_words = make_guess3('above', {'o':[-3], 'e':[-5]}, remaining_words)"
   ]
  },
  {
   "cell_type": "markdown",
   "id": "2495c3f5",
   "metadata": {},
   "source": [
    "# Simulation"
   ]
  },
  {
   "cell_type": "code",
   "execution_count": 18,
   "id": "d9cb6d3e",
   "metadata": {},
   "outputs": [],
   "source": [
    "with open('valid_solutions.csv') as f:\n",
    "    lines = f.readlines()"
   ]
  },
  {
   "cell_type": "code",
   "execution_count": 19,
   "id": "4b477c1d",
   "metadata": {
    "scrolled": true
   },
   "outputs": [
    {
     "name": "stdout",
     "output_type": "stream",
     "text": [
      "<<<<< New game: aback >>>>>\n",
      "Guessing: alert\n"
     ]
    },
    {
     "ename": "NameError",
     "evalue": "name 're' is not defined",
     "output_type": "error",
     "traceback": [
      "\u001b[0;31m---------------------------------------------------------------------------\u001b[0m",
      "\u001b[0;31mNameError\u001b[0m                                 Traceback (most recent call last)",
      "\u001b[0;32m<ipython-input-19-28d9b6fd272d>\u001b[0m in \u001b[0;36m<module>\u001b[0;34m\u001b[0m\n\u001b[1;32m     27\u001b[0m                 \u001b[0mguesses\u001b[0m\u001b[0;34m.\u001b[0m\u001b[0mappend\u001b[0m\u001b[0;34m(\u001b[0m\u001b[0mnext_guess\u001b[0m\u001b[0;34m)\u001b[0m\u001b[0;34m\u001b[0m\u001b[0;34m\u001b[0m\u001b[0m\n\u001b[1;32m     28\u001b[0m                 \u001b[0mprint\u001b[0m\u001b[0;34m(\u001b[0m\u001b[0;34m'Guessing: '\u001b[0m \u001b[0;34m+\u001b[0m \u001b[0mnext_guess\u001b[0m\u001b[0;34m)\u001b[0m\u001b[0;34m\u001b[0m\u001b[0;34m\u001b[0m\u001b[0m\n\u001b[0;32m---> 29\u001b[0;31m                 \u001b[0mcorrect_chars\u001b[0m \u001b[0;34m=\u001b[0m \u001b[0mevaluate_guess\u001b[0m\u001b[0;34m(\u001b[0m\u001b[0mnext_guess\u001b[0m\u001b[0;34m,\u001b[0m \u001b[0mtarget\u001b[0m\u001b[0;34m,\u001b[0m \u001b[0mposition\u001b[0m\u001b[0;34m=\u001b[0m\u001b[0;32mTrue\u001b[0m\u001b[0;34m)\u001b[0m\u001b[0;34m\u001b[0m\u001b[0;34m\u001b[0m\u001b[0m\n\u001b[0m\u001b[1;32m     30\u001b[0m                 \u001b[0mremaining_words\u001b[0m \u001b[0;34m=\u001b[0m \u001b[0mmake_guess3\u001b[0m\u001b[0;34m(\u001b[0m\u001b[0mnext_guess\u001b[0m\u001b[0;34m,\u001b[0m \u001b[0mcorrect_chars\u001b[0m\u001b[0;34m,\u001b[0m \u001b[0mremaining_words\u001b[0m\u001b[0;34m)\u001b[0m\u001b[0;34m\u001b[0m\u001b[0;34m\u001b[0m\u001b[0m\n\u001b[1;32m     31\u001b[0m \u001b[0;34m\u001b[0m\u001b[0m\n",
      "\u001b[0;32m<ipython-input-4-aa3980e38a8b>\u001b[0m in \u001b[0;36mevaluate_guess\u001b[0;34m(guess, target, position)\u001b[0m\n\u001b[1;32m      9\u001b[0m             \u001b[0;32mfor\u001b[0m \u001b[0mc\u001b[0m \u001b[0;32min\u001b[0m \u001b[0mcorrect_chars\u001b[0m\u001b[0;34m:\u001b[0m\u001b[0;34m\u001b[0m\u001b[0;34m\u001b[0m\u001b[0m\n\u001b[1;32m     10\u001b[0m                 \u001b[0mout\u001b[0m \u001b[0;34m=\u001b[0m \u001b[0;34m[\u001b[0m\u001b[0;34m]\u001b[0m\u001b[0;34m\u001b[0m\u001b[0;34m\u001b[0m\u001b[0m\n\u001b[0;32m---> 11\u001b[0;31m                 \u001b[0midx_target\u001b[0m \u001b[0;34m=\u001b[0m \u001b[0;34m[\u001b[0m\u001b[0mi\u001b[0m\u001b[0;34m.\u001b[0m\u001b[0mstart\u001b[0m\u001b[0;34m(\u001b[0m\u001b[0;34m)\u001b[0m \u001b[0;32mfor\u001b[0m \u001b[0mi\u001b[0m \u001b[0;32min\u001b[0m \u001b[0mre\u001b[0m\u001b[0;34m.\u001b[0m\u001b[0mfinditer\u001b[0m\u001b[0;34m(\u001b[0m\u001b[0mc\u001b[0m\u001b[0;34m,\u001b[0m \u001b[0mtarget\u001b[0m\u001b[0;34m)\u001b[0m\u001b[0;34m]\u001b[0m\u001b[0;34m\u001b[0m\u001b[0;34m\u001b[0m\u001b[0m\n\u001b[0m\u001b[1;32m     12\u001b[0m                 \u001b[0midx_guess\u001b[0m  \u001b[0;34m=\u001b[0m \u001b[0;34m[\u001b[0m\u001b[0mi\u001b[0m\u001b[0;34m.\u001b[0m\u001b[0mstart\u001b[0m\u001b[0;34m(\u001b[0m\u001b[0;34m)\u001b[0m \u001b[0;32mfor\u001b[0m \u001b[0mi\u001b[0m \u001b[0;32min\u001b[0m \u001b[0mre\u001b[0m\u001b[0;34m.\u001b[0m\u001b[0mfinditer\u001b[0m\u001b[0;34m(\u001b[0m\u001b[0mc\u001b[0m\u001b[0;34m,\u001b[0m \u001b[0mguess\u001b[0m\u001b[0;34m)\u001b[0m\u001b[0;34m]\u001b[0m\u001b[0;34m\u001b[0m\u001b[0;34m\u001b[0m\u001b[0m\n\u001b[1;32m     13\u001b[0m                 out = (out + \n",
      "\u001b[0;31mNameError\u001b[0m: name 're' is not defined"
     ]
    }
   ],
   "source": [
    "wordle_words = [w[:5] for w in lines]\n",
    "wordle_words.remove('word\\n')\n",
    "\n",
    "target_words = wordle_words\n",
    "\n",
    "results = dict()\n",
    "\n",
    "for target in target_words:\n",
    "    \n",
    "    results[target] = dict()\n",
    "    guesses = []\n",
    "    #wordle_words = [w[:5] for w in lines]\n",
    "    remaining_words = [w[:5] for w in lines]\n",
    "    finished_game = False\n",
    "\n",
    "    print('<<<<< New game: ' + target + ' >>>>>')\n",
    "\n",
    "    while ~finished_game:\n",
    "        for i in range(10):\n",
    "            if len(remaining_words) == 2:\n",
    "                next_guess = remaining_words[0]\n",
    "                \n",
    "            else:\n",
    "                next_guess = get_word_entropy(remaining_words, wordle_words, return_best=True)[0]\n",
    "                \n",
    "            if next_guess != target:\n",
    "                guesses.append(next_guess)\n",
    "                print('Guessing: ' + next_guess)\n",
    "                correct_chars = evaluate_guess(next_guess, target, position=True)\n",
    "                remaining_words = make_guess3(next_guess, correct_chars, remaining_words)\n",
    "\n",
    "                if len(remaining_words) <= 1:\n",
    "                    finished_game = True\n",
    "                    if len(remaining_words) == 0:\n",
    "                        print('<<<<< Ran out of guesses..anagrams? >>>>>>')\n",
    "                        results[target]['n'] = i+2\n",
    "                        results[target]['guesses'] = guesses\n",
    "                    elif remaining_words[0] == target:\n",
    "                        print('<<<<< Guess: ' + remaining_words[0] + ', game finished >>>>>>')\n",
    "                        results[target]['n'] = i+2\n",
    "                        guesses.append(remaining_words[0])\n",
    "                        results[target]['guesses'] = guesses\n",
    "\n",
    "                    break\n",
    "            else:\n",
    "                finished_game = True\n",
    "                print('<<<<< Guess: ' + next_guess + ', game finished >>>>>>')\n",
    "                results[target]['n'] = i+2\n",
    "                guesses.append(next_guess)\n",
    "                results[target]['guesses'] = guesses\n",
    "                break\n",
    "                \n",
    "\n",
    "\n",
    "        break\n",
    "        \n",
    "    \n",
    "results = pd.DataFrame(results).T.reset_index().rename(columns={'index': 'target'})    "
   ]
  },
  {
   "cell_type": "code",
   "execution_count": null,
   "id": "8377f36d",
   "metadata": {},
   "outputs": [],
   "source": [
    "results['n'].plot.hist()"
   ]
  },
  {
   "cell_type": "code",
   "execution_count": null,
   "id": "686876d3",
   "metadata": {},
   "outputs": [],
   "source": [
    "results[results['n'] > 6]"
   ]
  },
  {
   "cell_type": "code",
   "execution_count": null,
   "id": "3948f4fd",
   "metadata": {},
   "outputs": [],
   "source": [
    "results[results['target'] == 'blown']"
   ]
  },
  {
   "cell_type": "markdown",
   "id": "3a80134b",
   "metadata": {},
   "source": [
    "# Class definition"
   ]
  },
  {
   "cell_type": "code",
   "execution_count": 3,
   "id": "0bb974d9",
   "metadata": {},
   "outputs": [],
   "source": [
    "class PlayWorldle(object):\n",
    "    \n",
    "    def __init__(self, all_words):\n",
    "        print('<<< Welcome to a new Worldle! >>>')\n",
    "        self.all_words = all_words           # all words in dictionary\n",
    "        self.remaining_words = all_words     # remaining words\n",
    "        self.guesses = []                    # guesses\n",
    "\n",
    "    def enter_guess(self, guess, correct):\n",
    "        \n",
    "        self.guesses = self.guesses + [guess]\n",
    "\n",
    "        print('Correct letters:')\n",
    "        print(correct)\n",
    "\n",
    "        incorrect = [c for c in guess if c not in correct]\n",
    "\n",
    "        print('Incorrect letters:')\n",
    "        print(incorrect)\n",
    "        \n",
    "        remaining_words = self.remaining_words\n",
    "\n",
    "        incorrect_words = []\n",
    "        for word in remaining_words:\n",
    "            word_correct = True\n",
    "            while(word_correct == True): \n",
    "                for char in correct:\n",
    "                    for i in correct[char]:\n",
    "                        if i > 0:\n",
    "                            idx = i-1\n",
    "                            if word[idx] == char:\n",
    "                                continue\n",
    "                            else:\n",
    "                                word_correct = False\n",
    "                                incorrect_words.append(word)\n",
    "                                break\n",
    "                        else:\n",
    "                            idx = abs(i)-1\n",
    "                            if (word[idx] != char) & (char in word):\n",
    "                                continue\n",
    "                            else:\n",
    "                                word_correct = False\n",
    "                                incorrect_words.append(word)\n",
    "                                break\n",
    "                for char in incorrect:\n",
    "                    if (char in word):\n",
    "                        incorrect_words.append(word)\n",
    "                        break    \n",
    "                break   \n",
    "\n",
    "        remaining_words = [w for w in remaining_words if w not in incorrect_words]\n",
    "\n",
    "        print(\"Remaining words ({}) \".format(len(remaining_words)))     \n",
    "        if len(remaining_words)<=5:\n",
    "            print(remaining_words) \n",
    "            if len(remaining_words)==1:\n",
    "                print('Congratulations...eliminated down to one!')\n",
    "\n",
    "        self.remaining_words = remaining_words\n",
    "        \n",
    "\n",
    "    def gen_char_entropy(self):\n",
    "\n",
    "        words_remaining = self.remaining_words\n",
    "        words_all = self.all_words\n",
    "        n_words = len(words_remaining)\n",
    "        unique_chars = set([c for c in ''.join(words_all)])\n",
    "\n",
    "        entropy = dict.fromkeys(unique_chars, 0)\n",
    "\n",
    "        # get freq of letters in each word\n",
    "        for char in unique_chars:\n",
    "            n = 0\n",
    "            for word in words_remaining:\n",
    "                if char in word:\n",
    "                    n += 1\n",
    "            if (n_words-n != 0) & (n != 0):\n",
    "                entropy[char] = (-(n/n_words)*np.log2(n/n_words) \n",
    "                                 - ((n_words-n)/n_words)*np.log2((n_words-n)/n_words))\n",
    "            else:\n",
    "                entropy[char] = 0\n",
    "\n",
    "        return entropy \n",
    "\n",
    "        \n",
    "    def gen_word_entropy(self, return_best=None, show=None):\n",
    "        \n",
    "        words_remaining = self.remaining_words\n",
    "        words = self.all_words\n",
    "\n",
    "        word_entropy = dict.fromkeys(words, 0)\n",
    "        char_ent = self.gen_char_entropy()\n",
    "\n",
    "        for w in words:\n",
    "            entropy = 0\n",
    "            used_chars = []\n",
    "            for c in w:\n",
    "                if c not in used_chars:\n",
    "                    entropy = entropy + char_ent[c]\n",
    "                    used_chars.append(c)\n",
    "            word_entropy[w] = entropy/len(w)\n",
    "\n",
    "        best_choices = sorted(word_entropy, key=word_entropy.get, reverse=True)[:10]\n",
    "\n",
    "        if word_entropy[best_choices[0]] == 0:\n",
    "            print('Best entropy is 0...are all remaining words anagrams?')\n",
    "\n",
    "        if show:\n",
    "            print('Here are the best guesses...')\n",
    "            for i in best_choices:\n",
    "                print([i, word_entropy[i]])\n",
    "\n",
    "        if return_best:\n",
    "            return best_choices\n",
    "        \n",
    "        \n",
    "       "
   ]
  },
  {
   "cell_type": "code",
   "execution_count": 15,
   "id": "3c556867",
   "metadata": {},
   "outputs": [
    {
     "name": "stdout",
     "output_type": "stream",
     "text": [
      "<<< Welcome to a new Worldle! >>>\n"
     ]
    }
   ],
   "source": [
    "with open('valid_solutions.csv') as f:\n",
    "    lines = f.readlines()\n",
    "\n",
    "wordle_words = [w[:5] for w in lines]\n",
    "\n",
    "obj = PlayWorldle(wordle_words)"
   ]
  },
  {
   "cell_type": "code",
   "execution_count": 16,
   "id": "8c97b607",
   "metadata": {},
   "outputs": [
    {
     "name": "stdout",
     "output_type": "stream",
     "text": [
      "Correct letters:\n",
      "{'a': [1], 'l': [2], 'e': [-3]}\n",
      "Incorrect letters:\n",
      "['r', 't']\n",
      "Remaining words (6) \n"
     ]
    }
   ],
   "source": [
    "obj.enter_guess('alert', {'a':[1], 'l':[2], 'e':[-3]})"
   ]
  },
  {
   "cell_type": "code",
   "execution_count": 17,
   "id": "d8c4e8cc",
   "metadata": {},
   "outputs": [
    {
     "name": "stdout",
     "output_type": "stream",
     "text": [
      "Here are the best guesses...\n",
      "['vying', 0.7736726197999104]\n",
      "['bingo', 0.6436681354702396]\n",
      "['dingo', 0.6436681354702396]\n",
      "['dingy', 0.6436681354702396]\n",
      "['doing', 0.6436681354702396]\n",
      "['dying', 0.6436681354702396]\n",
      "['eking', 0.6436681354702396]\n",
      "['eying', 0.6436681354702396]\n",
      "['given', 0.6436681354702396]\n",
      "['going', 0.6436681354702396]\n"
     ]
    }
   ],
   "source": [
    "obj.gen_word_entropy(show=True)"
   ]
  },
  {
   "cell_type": "code",
   "execution_count": 18,
   "id": "1cf2077f",
   "metadata": {},
   "outputs": [
    {
     "name": "stdout",
     "output_type": "stream",
     "text": [
      "Correct letters:\n",
      "{'i': [3]}\n",
      "Incorrect letters:\n",
      "['v', 'y', 'n', 'g']\n",
      "Remaining words (1) \n",
      "['alike']\n",
      "Congratulations...eliminated down to one!\n"
     ]
    }
   ],
   "source": [
    "obj.enter_guess('vying', {'i':[3]})"
   ]
  },
  {
   "cell_type": "code",
   "execution_count": 13,
   "id": "2b8e7a5c",
   "metadata": {},
   "outputs": [
    {
     "name": "stdout",
     "output_type": "stream",
     "text": [
      "Here are the best guesses...\n",
      "['acrid', 0.36731833362179583]\n",
      "['caddy', 0.36731833362179583]\n",
      "['cadet', 0.36731833362179583]\n",
      "['candy', 0.36731833362179583]\n",
      "['cedar', 0.36731833362179583]\n",
      "['chard', 0.36731833362179583]\n",
      "['chide', 0.36731833362179583]\n",
      "['child', 0.36731833362179583]\n",
      "['chord', 0.36731833362179583]\n",
      "['cider', 0.36731833362179583]\n"
     ]
    }
   ],
   "source": [
    "obj.gen_word_entropy(show=True)"
   ]
  },
  {
   "cell_type": "code",
   "execution_count": null,
   "id": "1d31784e",
   "metadata": {},
   "outputs": [],
   "source": [
    "obj.enter_guess('caddy', {'h':[-2]})"
   ]
  },
  {
   "cell_type": "code",
   "execution_count": null,
   "id": "f3af190e",
   "metadata": {},
   "outputs": [],
   "source": [
    "obj.gen_word_entropy(show=True)"
   ]
  },
  {
   "cell_type": "code",
   "execution_count": null,
   "id": "4da517af",
   "metadata": {},
   "outputs": [],
   "source": [
    "obj.enter_guess('vowel', {'v':[-1], 'e':[4]})"
   ]
  },
  {
   "cell_type": "code",
   "execution_count": null,
   "id": "4d1ce92c",
   "metadata": {},
   "outputs": [],
   "source": []
  }
 ],
 "metadata": {
  "kernelspec": {
   "display_name": "Python 3",
   "language": "python",
   "name": "python3"
  },
  "language_info": {
   "codemirror_mode": {
    "name": "ipython",
    "version": 3
   },
   "file_extension": ".py",
   "mimetype": "text/x-python",
   "name": "python",
   "nbconvert_exporter": "python",
   "pygments_lexer": "ipython3",
   "version": "3.8.8"
  },
  "varInspector": {
   "cols": {
    "lenName": 16,
    "lenType": 16,
    "lenVar": 40
   },
   "kernels_config": {
    "python": {
     "delete_cmd_postfix": "",
     "delete_cmd_prefix": "del ",
     "library": "var_list.py",
     "varRefreshCmd": "print(var_dic_list())"
    },
    "r": {
     "delete_cmd_postfix": ") ",
     "delete_cmd_prefix": "rm(",
     "library": "var_list.r",
     "varRefreshCmd": "cat(var_dic_list()) "
    }
   },
   "types_to_exclude": [
    "module",
    "function",
    "builtin_function_or_method",
    "instance",
    "_Feature"
   ],
   "window_display": false
  }
 },
 "nbformat": 4,
 "nbformat_minor": 5
}
